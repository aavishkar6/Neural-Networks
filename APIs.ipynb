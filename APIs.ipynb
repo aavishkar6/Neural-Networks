{
 "cells": [
  {
   "cell_type": "code",
   "execution_count": 15,
   "id": "b39c2c0e",
   "metadata": {},
   "outputs": [],
   "source": [
    "import requests\n",
    "import time"
   ]
  },
  {
   "cell_type": "code",
   "execution_count": 4,
   "id": "ddcf95b2",
   "metadata": {},
   "outputs": [],
   "source": [
    "url = \"https://official-joke-api.appspot.com/random_joke\""
   ]
  },
  {
   "cell_type": "code",
   "execution_count": 18,
   "id": "4cacfe97",
   "metadata": {},
   "outputs": [],
   "source": [
    "def get_joke():\n",
    "    response = requests.get(url)\n",
    "    if response.status_code == 200:\n",
    "        data = response.json()\n",
    "        print(data['setup'])\n",
    "        time.sleep(5)\n",
    "        print(data['punchline'])\n",
    "    else:\n",
    "        print(\"Failed to get joke\")\n",
    "        "
   ]
  },
  {
   "cell_type": "code",
   "execution_count": 22,
   "id": "c4b68550",
   "metadata": {},
   "outputs": [
    {
     "name": "stdout",
     "output_type": "stream",
     "text": [
      "Where do hamburgers go to dance?\n",
      "The meat-ball.\n"
     ]
    }
   ],
   "source": [
    "get_joke()"
   ]
  },
  {
   "cell_type": "code",
   "execution_count": null,
   "id": "cb656c85",
   "metadata": {},
   "outputs": [],
   "source": []
  }
 ],
 "metadata": {
  "kernelspec": {
   "display_name": "Python 3 (ipykernel)",
   "language": "python",
   "name": "python3"
  },
  "language_info": {
   "codemirror_mode": {
    "name": "ipython",
    "version": 3
   },
   "file_extension": ".py",
   "mimetype": "text/x-python",
   "name": "python",
   "nbconvert_exporter": "python",
   "pygments_lexer": "ipython3",
   "version": "3.9.13"
  }
 },
 "nbformat": 4,
 "nbformat_minor": 5
}
